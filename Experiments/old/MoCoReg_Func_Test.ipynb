{
 "cells": [
  {
   "cell_type": "code",
   "execution_count": 1,
   "id": "50a9e8ea-651e-46fd-96c2-157117134db2",
   "metadata": {},
   "outputs": [],
   "source": [
    "import numpy as np\n",
    "\n",
    "from itkwidgets import view\n",
    "import matplotlib.pyplot as plt\n",
    "\n",
    "import site\n",
    "site.addsitedir(\"../src\")\n",
    "\n",
    "from mocoreg_func import mocoreg_func\n",
    "\n",
    "from mocoreg import mocoreg"
   ]
  },
  {
   "cell_type": "code",
   "execution_count": 2,
   "id": "93f915bd-b7b1-4588-9184-41cf0cd4fd46",
   "metadata": {},
   "outputs": [],
   "source": [
    "app = mocoreg()\n",
    "app.read_4d_bmode_matlab_file('../Data/bmenv2.dat', bits=64)"
   ]
  },
  {
   "cell_type": "code",
   "execution_count": 3,
   "id": "a5bd81a5-4692-44b0-aa5d-a5d4d6c8b5a9",
   "metadata": {},
   "outputs": [
    {
     "name": "stdout",
     "output_type": "stream",
     "text": [
      "Keyframes = [0, 32, 57, 72, 82, 92, 102, 107, 112, 117, 122, 127, 132, 137, 142, 147, 157, 167, 177, 192, 199]\n",
      "Registering set 1 of 20: Frame = 32\n",
      "Registering set 2 of 20: Frame = 57\n",
      "Registering set 3 of 20: Frame = 72\n",
      "Registering set 4 of 20: Frame = 82\n",
      "Registering set 5 of 20: Frame = 92\n",
      "Registering set 6 of 20: Frame = 102\n",
      "Registering set 7 of 20: Frame = 107\n",
      "Registering set 8 of 20: Frame = 112\n",
      "Registering set 9 of 20: Frame = 117\n",
      "Registering set 10 of 20: Frame = 122\n",
      "Registering set 11 of 20: Frame = 127\n",
      "Registering set 12 of 20: Frame = 132\n",
      "Registering set 13 of 20: Frame = 137\n",
      "Registering set 14 of 20: Frame = 142\n",
      "Registering set 15 of 20: Frame = 147\n",
      "Registering set 16 of 20: Frame = 157\n",
      "Registering set 17 of 20: Frame = 167\n",
      "Registering set 18 of 20: Frame = 177\n",
      "Registering set 19 of 20: Frame = 192\n",
      "Registering set 20 of 20: Frame = 199\n",
      "Done!\n",
      "Registration time = 103.1041185\n",
      "Before registration MSE = 6462.921507822512\n",
      "After registration MSE = 6462.921507962111\n"
     ]
    }
   ],
   "source": [
    "transforms = mocoreg_func(app.data_array, frames_per_second=500, debug=True)"
   ]
  },
  {
   "cell_type": "code",
   "execution_count": 4,
   "id": "93c65b00-e413-49e4-ad70-db1578918b7a",
   "metadata": {},
   "outputs": [
    {
     "name": "stdout",
     "output_type": "stream",
     "text": [
      "199\n"
     ]
    }
   ],
   "source": [
    "print(len(transforms))"
   ]
  },
  {
   "cell_type": "code",
   "execution_count": 5,
   "id": "02cbfd66-c355-4379-8dd7-41332cc5b1b1",
   "metadata": {},
   "outputs": [
    {
     "data": {
      "text/plain": [
       "[<matplotlib.lines.Line2D at 0x2c608e675b0>]"
      ]
     },
     "execution_count": 5,
     "metadata": {},
     "output_type": "execute_result"
    },
    {
     "data": {
      "image/png": "[encoded data removed]",
      "text/plain": [
       "<Figure size 432x288 with 1 Axes>"
      ]
     },
     "metadata": {
      "needs_background": "light"
     },
     "output_type": "display_data"
    }
   ],
   "source": [
    "x = [tr[9] for tr in transforms]\n",
    "plt.plot(x)"
   ]
  },
  {
   "cell_type": "code",
   "execution_count": null,
   "id": "e9d3d014-b281-414c-b9d5-b19bfc2d51dc",
   "metadata": {},
   "outputs": [],
   "source": []
  }
 ],
 "metadata": {
  "kernelspec": {
   "display_name": "Python 3 (ipykernel)",
   "language": "python",
   "name": "python3"
  },
  "language_info": {
   "codemirror_mode": {
    "name": "ipython",
    "version": 3
   },
   "file_extension": ".py",
   "mimetype": "text/x-python",
   "name": "python",
   "nbconvert_exporter": "python",
   "pygments_lexer": "ipython3",
   "version": "3.8.10"
  },
  "widgets": {
   "application/vnd.jupyter.widget-state+json": {
    "state": {},
    "version_major": 2,
    "version_minor": 0
   }
  }
 },
 "nbformat": 4,
 "nbformat_minor": 5
}
