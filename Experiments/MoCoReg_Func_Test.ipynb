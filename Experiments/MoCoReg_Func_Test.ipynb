{
 "cells": [
  {
   "cell_type": "code",
   "execution_count": 1,
   "id": "50a9e8ea-651e-46fd-96c2-157117134db2",
   "metadata": {},
   "outputs": [],
   "source": [
    "import numpy as np\n",
    "\n",
    "from itkwidgets import view\n",
    "import matplotlib.pyplot as plt\n",
    "\n",
    "import site\n",
    "site.addsitedir(\"../src\")\n",
    "\n",
    "from mocoreg_func import mocoreg_func\n",
    "\n",
    "from mocoreg import mocoreg"
   ]
  },
  {
   "cell_type": "code",
   "execution_count": 2,
   "id": "93f915bd-b7b1-4588-9184-41cf0cd4fd46",
   "metadata": {},
   "outputs": [],
   "source": [
    "app = mocoreg()\n",
    "app.read_4d_bmode_matlab_file('../Data/bmenv2.dat', bits=64)"
   ]
  },
  {
   "cell_type": "code",
   "execution_count": 3,
   "id": "a5bd81a5-4692-44b0-aa5d-a5d4d6c8b5a9",
   "metadata": {},
   "outputs": [
    {
     "name": "stdout",
     "output_type": "stream",
     "text": [
      "Keyframes = [0, 32, 64, 84, 94, 104, 109, 114, 119, 124, 129, 134, 139, 144, 149, 154, 159, 164, 174, 184, 199]\n",
      "Registering set 1 of 20\n",
      "Registering set 2 of 20\n",
      "Registering set 3 of 20\n",
      "Registering set 4 of 20\n",
      "Registering set 5 of 20\n",
      "Registering set 6 of 20\n",
      "Registering set 7 of 20\n",
      "Registering set 8 of 20\n",
      "Registering set 9 of 20\n",
      "Registering set 10 of 20\n",
      "Registering set 11 of 20\n",
      "Registering set 12 of 20\n",
      "Registering set 13 of 20\n",
      "Registering set 14 of 20\n",
      "Registering set 15 of 20\n",
      "Registering set 16 of 20\n",
      "Registering set 17 of 20\n",
      "Registering set 18 of 20\n",
      "Registering set 19 of 20\n",
      "Registering set 20 of 20\n",
      "Done!\n",
      "Registration time = 85.534543\n",
      "Interpolating frames 0 to 32\n",
      "Interpolating frames 32 to 64\n",
      "Interpolating frames 64 to 84\n",
      "Interpolating frames 84 to 94\n",
      "Interpolating frames 94 to 104\n",
      "Interpolating frames 104 to 109\n",
      "Interpolating frames 109 to 114\n",
      "Interpolating frames 114 to 119\n",
      "Interpolating frames 119 to 124\n",
      "Interpolating frames 124 to 129\n",
      "Interpolating frames 129 to 134\n",
      "Interpolating frames 134 to 139\n",
      "Interpolating frames 139 to 144\n",
      "Interpolating frames 144 to 149\n",
      "Interpolating frames 149 to 154\n",
      "Interpolating frames 154 to 159\n",
      "Interpolating frames 159 to 164\n",
      "Interpolating frames 164 to 174\n",
      "Interpolating frames 174 to 184\n",
      "Interpolating frames 184 to 199\n",
      "Applying transforms\n",
      "Before registration MSE = 1225323.3998258426\n",
      "After registration MSE = 1225323.4171765195\n"
     ]
    }
   ],
   "source": [
    "transforms = mocoreg_func(app.data_array, debug=True)"
   ]
  },
  {
   "cell_type": "code",
   "execution_count": 4,
   "id": "93c65b00-e413-49e4-ad70-db1578918b7a",
   "metadata": {},
   "outputs": [
    {
     "name": "stdout",
     "output_type": "stream",
     "text": [
      "199\n"
     ]
    }
   ],
   "source": [
    "print(len(transforms))"
   ]
  },
  {
   "cell_type": "code",
   "execution_count": 5,
   "id": "02cbfd66-c355-4379-8dd7-41332cc5b1b1",
   "metadata": {},
   "outputs": [],
   "source": [
    "x = [tr[8] for tr in transforms]"
   ]
  },
  {
   "cell_type": "code",
   "execution_count": 6,
   "id": "c55382ea-3f09-468b-8449-33ea4a480b28",
   "metadata": {},
   "outputs": [
    {
     "data": {
      "text/plain": [
       "[<matplotlib.lines.Line2D at 0x209a1f1f910>]"
      ]
     },
     "execution_count": 6,
     "metadata": {},
     "output_type": "execute_result"
    },
    {
     "data": {
      "image/png": "[encoded data removed]",
      "text/plain": [
       "<Figure size 432x288 with 1 Axes>"
      ]
     },
     "metadata": {
      "needs_background": "light"
     },
     "output_type": "display_data"
    }
   ],
   "source": [
    "plt.plot(x)"
   ]
  },
  {
   "cell_type": "code",
   "execution_count": null,
   "id": "8d0dc0c6-542e-46bc-b2ea-bf3e10908cb7",
   "metadata": {},
   "outputs": [],
   "source": []
  }
 ],
 "metadata": {
  "kernelspec": {
   "display_name": "Python 3 (ipykernel)",
   "language": "python",
   "name": "python3"
  },
  "language_info": {
   "codemirror_mode": {
    "name": "ipython",
    "version": 3
   },
   "file_extension": ".py",
   "mimetype": "text/x-python",
   "name": "python",
   "nbconvert_exporter": "python",
   "pygments_lexer": "ipython3",
   "version": "3.8.10"
  },
  "widgets": {
   "application/vnd.jupyter.widget-state+json": {
    "state": {},
    "version_major": 2,
    "version_minor": 0
   }
  }
 },
 "nbformat": 4,
 "nbformat_minor": 5
}
