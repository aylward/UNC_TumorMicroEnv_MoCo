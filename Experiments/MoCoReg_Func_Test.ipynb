{
 "cells": [
  {
   "cell_type": "code",
   "execution_count": 1,
   "id": "50a9e8ea-651e-46fd-96c2-157117134db2",
   "metadata": {},
   "outputs": [],
   "source": [
    "import numpy as np\n",
    "\n",
    "from itkwidgets import view\n",
    "import matplotlib.pyplot as plt\n",
    "\n",
    "import site\n",
    "site.addsitedir(\"../src\")\n",
    "\n",
    "from mocoreg_func import mocoreg_func\n",
    "\n",
    "from mocoreg import mocoreg"
   ]
  },
  {
   "cell_type": "code",
   "execution_count": 2,
   "id": "93f915bd-b7b1-4588-9184-41cf0cd4fd46",
   "metadata": {},
   "outputs": [],
   "source": [
    "app = mocoreg()\n",
    "app.read_4d_bmode_matlab_file('../Data/bmenv2.dat', bits=64)"
   ]
  },
  {
   "cell_type": "code",
   "execution_count": null,
   "id": "a5bd81a5-4692-44b0-aa5d-a5d4d6c8b5a9",
   "metadata": {},
   "outputs": [
    {
     "name": "stdout",
     "output_type": "stream",
     "text": [
      "Keyframes = [0, 32, 64, 84, 94, 104, 109, 114, 119, 124, 129, 134, 139, 144, 149, 154, 159, 164, 174, 184, 199]\n",
      "Registering set 1 of 20: Frame = 32\n",
      "Registering set 2 of 20: Frame = 64\n",
      "Registering set 3 of 20: Frame = 84\n",
      "Registering set 4 of 20: Frame = 94\n",
      "Registering set 5 of 20: Frame = 104\n",
      "Registering set 6 of 20: Frame = 109\n",
      "Registering set 7 of 20: Frame = 114\n",
      "Registering set 8 of 20: Frame = 119\n",
      "Registering set 9 of 20: Frame = 124\n",
      "Registering set 10 of 20: Frame = 129\n",
      "Registering set 11 of 20: Frame = 134\n",
      "Registering set 12 of 20: Frame = 139\n",
      "Registering set 13 of 20: Frame = 144\n",
      "Registering set 14 of 20: Frame = 149\n",
      "Registering set 15 of 20: Frame = 154\n",
      "Registering set 16 of 20: Frame = 159\n"
     ]
    }
   ],
   "source": [
    "transforms = mocoreg_func(app.data_array, debug=True)"
   ]
  },
  {
   "cell_type": "code",
   "execution_count": null,
   "id": "93c65b00-e413-49e4-ad70-db1578918b7a",
   "metadata": {},
   "outputs": [],
   "source": [
    "print(len(transforms))"
   ]
  },
  {
   "cell_type": "code",
   "execution_count": null,
   "id": "02cbfd66-c355-4379-8dd7-41332cc5b1b1",
   "metadata": {},
   "outputs": [],
   "source": [
    "x = [tr[9] for tr in transforms]\n",
    "plt.plot(x)"
   ]
  },
  {
   "cell_type": "code",
   "execution_count": null,
   "id": "e9d3d014-b281-414c-b9d5-b19bfc2d51dc",
   "metadata": {},
   "outputs": [],
   "source": []
  }
 ],
 "metadata": {
  "kernelspec": {
   "display_name": "Python 3 (ipykernel)",
   "language": "python",
   "name": "python3"
  },
  "language_info": {
   "codemirror_mode": {
    "name": "ipython",
    "version": 3
   },
   "file_extension": ".py",
   "mimetype": "text/x-python",
   "name": "python",
   "nbconvert_exporter": "python",
   "pygments_lexer": "ipython3",
   "version": "3.8.10"
  },
  "widgets": {
   "application/vnd.jupyter.widget-state+json": {
    "state": {},
    "version_major": 2,
    "version_minor": 0
   }
  }
 },
 "nbformat": 4,
 "nbformat_minor": 5
}
