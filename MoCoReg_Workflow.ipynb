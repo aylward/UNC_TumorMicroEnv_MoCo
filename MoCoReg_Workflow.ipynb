{
 "cells": [
  {
   "cell_type": "code",
   "execution_count": 1,
   "id": "2386cd42-6167-4bf7-9105-f22f5e24cd0f",
   "metadata": {},
   "outputs": [],
   "source": [
    "import numpy as np\n",
    "\n",
    "from itkwidgets import view\n",
    "import matplotlib.pyplot as plt\n",
    "\n",
    "from mocoreg import mocoreg"
   ]
  },
  {
   "cell_type": "code",
   "execution_count": 2,
   "id": "218120ae-92d5-4c48-80ec-d2ff72d2700b",
   "metadata": {},
   "outputs": [],
   "source": [
    "app = mocoreg()\n",
    "app.read_4d_bmode_matlab_file('Data/bmenv2.dat')"
   ]
  },
  {
   "cell_type": "code",
   "execution_count": 3,
   "id": "dff0f430-8419-4862-825f-e4df4ac58495",
   "metadata": {},
   "outputs": [],
   "source": [
    "app.compute_keyframes()"
   ]
  },
  {
   "cell_type": "code",
   "execution_count": 4,
   "id": "38af1c5f-e6dd-4b7b-9331-fe0ed8e80cf6",
   "metadata": {},
   "outputs": [
    {
     "name": "stdout",
     "output_type": "stream",
     "text": [
      "[0, 44, 77, 95, 104, 116, 125, 134, 146, 164, 173, 182, 191, 199]\n"
     ]
    }
   ],
   "source": [
    "print(app.keyframes)"
   ]
  },
  {
   "cell_type": "code",
   "execution_count": 5,
   "id": "0063bc48-c452-4bd0-aab0-fde37ce4059b",
   "metadata": {},
   "outputs": [],
   "source": [
    "meansq, diffs = app.compute_inter_keyframe_diffs()"
   ]
  },
  {
   "cell_type": "code",
   "execution_count": 6,
   "id": "c9aaac03-e22d-4cab-b6e3-ecba8beac4e7",
   "metadata": {},
   "outputs": [
    {
     "name": "stdout",
     "output_type": "stream",
     "text": [
      "[1531254.3649283093, 1653587.7656441464, 1679047.0732841291, 1588218.058015964, 1568216.7177581037, 1782033.7812645417, 1419956.2871468966, 1823395.4703464634, 969684.8142442986, 1707489.371839251, 1800667.9689315297, 1134443.4848647155, 985021.769083303, 3213211.164765864]\n"
     ]
    }
   ],
   "source": [
    "print(diffs)"
   ]
  },
  {
   "cell_type": "code",
   "execution_count": null,
   "id": "822c84a7-146a-4eeb-b918-04f90e352f55",
   "metadata": {},
   "outputs": [
    {
     "name": "stdout",
     "output_type": "stream",
     "text": [
      "Registering set 0 of 13\n"
     ]
    },
    {
     "name": "stderr",
     "output_type": "stream",
     "text": [
      "itkImageF4 not loaded from module TubeTK because of exception:\n",
      " module 'itk.TubeTKPython' has no attribute 'itkImageF4'\n",
      "vectoritkImageF4 not loaded from module TubeTK because of exception:\n",
      " module 'itk.TubeTKPython' has no attribute 'vectoritkImageF4'\n"
     ]
    },
    {
     "name": "stdout",
     "output_type": "stream",
     "text": [
      "Registering set 1 of 13\n",
      "Registering set 2 of 13\n",
      "Registering set 3 of 13\n",
      "Registering set 4 of 13\n",
      "Registering set 5 of 13\n",
      "Registering set 6 of 13\n",
      "Registering set 7 of 13\n"
     ]
    }
   ],
   "source": [
    "app.register_keyframes(app.keyframes)"
   ]
  },
  {
   "cell_type": "code",
   "execution_count": null,
   "id": "f9084044-78d0-4a33-9f0e-c763cd730fff",
   "metadata": {},
   "outputs": [],
   "source": [
    "app.interpolate_keyframe_transforms(app.keyframes)"
   ]
  },
  {
   "cell_type": "code",
   "execution_count": null,
   "id": "c3e6dd85-c8a8-4d19-87de-e50a42de28d5",
   "metadata": {},
   "outputs": [],
   "source": [
    "print(len(app.transforms))\n",
    "print(len(app.data_array))\n",
    "print(len(app.keyframes))\n",
    "print(len(app.keyframe_transforms))"
   ]
  },
  {
   "cell_type": "code",
   "execution_count": null,
   "id": "8b624b97-8ef0-41b6-8d00-723aea9f6fa8",
   "metadata": {},
   "outputs": [],
   "source": [
    "print( [ app.transforms[x].GetOffset() for x in range(len(app.transforms))])"
   ]
  },
  {
   "cell_type": "code",
   "execution_count": null,
   "id": "0bd29393-6ab6-4d6c-af23-d0b1884e7c76",
   "metadata": {},
   "outputs": [],
   "source": [
    "app.apply_interpolations()"
   ]
  },
  {
   "cell_type": "code",
   "execution_count": null,
   "id": "68f68d60-e925-42ab-b9a1-e7d4cb2a3c72",
   "metadata": {},
   "outputs": [],
   "source": [
    "print(len(app.image_reg))"
   ]
  },
  {
   "cell_type": "code",
   "execution_count": null,
   "id": "8219d744-6118-4197-8914-e17f5d46c421",
   "metadata": {},
   "outputs": [],
   "source": [
    "++"
   ]
  }
 ],
 "metadata": {
  "kernelspec": {
   "display_name": "Python 3 (ipykernel)",
   "language": "python",
   "name": "python3"
  },
  "language_info": {
   "codemirror_mode": {
    "name": "ipython",
    "version": 3
   },
   "file_extension": ".py",
   "mimetype": "text/x-python",
   "name": "python",
   "nbconvert_exporter": "python",
   "pygments_lexer": "ipython3",
   "version": "3.8.10"
  },
  "widgets": {
   "application/vnd.jupyter.widget-state+json": {
    "state": {},
    "version_major": 2,
    "version_minor": 0
   }
  }
 },
 "nbformat": 4,
 "nbformat_minor": 5
}
