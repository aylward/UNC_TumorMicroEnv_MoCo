{
 "cells": [
  {
   "cell_type": "code",
   "execution_count": 1,
   "id": "2386cd42-6167-4bf7-9105-f22f5e24cd0f",
   "metadata": {},
   "outputs": [],
   "source": [
    "import numpy as np\n",
    "\n",
    "from itkwidgets import view\n",
    "import matplotlib.pyplot as plt\n",
    "\n",
    "from mocoreg import mocoreg"
   ]
  },
  {
   "cell_type": "code",
   "execution_count": 2,
   "id": "218120ae-92d5-4c48-80ec-d2ff72d2700b",
   "metadata": {},
   "outputs": [],
   "source": [
    "app = mocoreg()\n",
    "app.read_4d_bmode_matlab_file('Data/bmenv2.dat')"
   ]
  },
  {
   "cell_type": "code",
   "execution_count": 3,
   "id": "dff0f430-8419-4862-825f-e4df4ac58495",
   "metadata": {},
   "outputs": [],
   "source": [
    "app.compute_keyframes()"
   ]
  },
  {
   "cell_type": "code",
   "execution_count": 4,
   "id": "38af1c5f-e6dd-4b7b-9331-fe0ed8e80cf6",
   "metadata": {},
   "outputs": [
    {
     "name": "stdout",
     "output_type": "stream",
     "text": [
      "[0, 44, 77, 95, 104, 116, 125, 134, 146, 164, 173, 182, 191, 199]\n"
     ]
    }
   ],
   "source": [
    "print(app.keyframes)"
   ]
  },
  {
   "cell_type": "code",
   "execution_count": null,
   "id": "822c84a7-146a-4eeb-b918-04f90e352f55",
   "metadata": {},
   "outputs": [
    {
     "name": "stdout",
     "output_type": "stream",
     "text": [
      "Registering set 0 of 13\n"
     ]
    }
   ],
   "source": [
    "import time\n",
    "start_time = time.perf_counter()\n",
    "app.register_keyframes(app.keyframes)\n",
    "end_time = time.perf_counter()\n",
    "\n",
    "print(\"Time required for registration (seconds) = \", end_time-start_time)"
   ]
  },
  {
   "cell_type": "code",
   "execution_count": null,
   "id": "f9084044-78d0-4a33-9f0e-c763cd730fff",
   "metadata": {},
   "outputs": [],
   "source": [
    "app.interpolate_keyframe_transforms(app.keyframes)"
   ]
  },
  {
   "cell_type": "code",
   "execution_count": null,
   "id": "f3548750-8686-4d22-bac2-770403ab445e",
   "metadata": {},
   "outputs": [],
   "source": [
    "app.apply_interpolations()"
   ]
  },
  {
   "cell_type": "code",
   "execution_count": null,
   "id": "fccd3d69-1a29-4da0-8b29-25fd88604869",
   "metadata": {},
   "outputs": [],
   "source": [
    "tmp = [ list(app.transforms[x].GetParameters()) for x in range(len(app.transforms))]\n",
    "print(len(tmp), len(app.data_array))\n",
    "x = np.array([v[0] for v in tmp])\n",
    "y = np.array([v[1] for v in tmp])\n",
    "z = np.array([v[2] for v in tmp])"
   ]
  },
  {
   "cell_type": "code",
   "execution_count": null,
   "id": "8219d744-6118-4197-8914-e17f5d46c421",
   "metadata": {},
   "outputs": [],
   "source": [
    "from matplotlib import pyplot as plt\n",
    "\n",
    "plt.plot(np.sqrt(x*x+y*y+z*z),'r')"
   ]
  },
  {
   "cell_type": "code",
   "execution_count": null,
   "id": "631182cd-eb2c-4e82-97cf-0b7f43454212",
   "metadata": {},
   "outputs": [],
   "source": [
    "meansq, diffs = app.compute_inter_keyframe_diffs()\n",
    "meansq_reg, diffs_reg = app.compute_inter_keyframe_diffs(data_array=app.data_array_reg)"
   ]
  },
  {
   "cell_type": "code",
   "execution_count": null,
   "id": "02a1c708-cb7e-48de-b1d2-ff29c2098c59",
   "metadata": {},
   "outputs": [],
   "source": [
    "print(diffs)\n",
    "print(\"\")\n",
    "print(diffs_reg)"
   ]
  },
  {
   "cell_type": "code",
   "execution_count": null,
   "id": "f38d0a49-5797-41a3-8707-e1da81b8753c",
   "metadata": {},
   "outputs": [],
   "source": [
    "print( np.sum(np.abs(app.data_array[0] - app.data_array[10])))\n",
    "print( np.sum(np.abs(app.data_array_reg[0] - app.data_array_reg[10])))"
   ]
  }
 ],
 "metadata": {
  "kernelspec": {
   "display_name": "Python 3 (ipykernel)",
   "language": "python",
   "name": "python3"
  },
  "language_info": {
   "codemirror_mode": {
    "name": "ipython",
    "version": 3
   },
   "file_extension": ".py",
   "mimetype": "text/x-python",
   "name": "python",
   "nbconvert_exporter": "python",
   "pygments_lexer": "ipython3",
   "version": "3.8.10"
  },
  "widgets": {
   "application/vnd.jupyter.widget-state+json": {
    "state": {},
    "version_major": 2,
    "version_minor": 0
   }
  }
 },
 "nbformat": 4,
 "nbformat_minor": 5
}
